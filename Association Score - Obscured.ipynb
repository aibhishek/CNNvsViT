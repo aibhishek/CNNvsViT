{
 "cells": [
  {
   "cell_type": "code",
   "execution_count": 1,
   "id": "690b3e74",
   "metadata": {},
   "outputs": [
    {
     "name": "stderr",
     "output_type": "stream",
     "text": [
      "/home/abhishekmandal/anaconda3/envs/TensorFlow/lib/python3.9/site-packages/tensorflow_addons/utils/ensure_tf_install.py:53: UserWarning: Tensorflow Addons supports using Python ops for all Tensorflow versions above or equal to 2.3.0 and strictly below 2.6.0 (nightly versions are not supported). \n",
      " The versions of TensorFlow you are currently using is 2.6.0 and is not supported. \n",
      "Some things might work, some things might not.\n",
      "If you were to encounter a bug, do not file an issue.\n",
      "If you want to make sure you're using a tested and supported configuration, either change the TensorFlow version or the TensorFlow Addons's version. \n",
      "You can find the compatibility matrix in TensorFlow Addon's readme:\n",
      "https://github.com/tensorflow/addons\n",
      "  warnings.warn(\n"
     ]
    },
    {
     "data": {
      "text/html": [
       "<style>.container { width:100% !important; }</style>"
      ],
      "text/plain": [
       "<IPython.core.display.HTML object>"
      ]
     },
     "metadata": {},
     "output_type": "display_data"
    }
   ],
   "source": [
    "import iias\n",
    "import pandas as pd\n",
    "import numpy as np\n",
    "import tensorflow as tf\n",
    "from tensorflow import keras\n",
    "from tensorflow.keras.preprocessing import image\n",
    "from keras.models import Model\n",
    "from vit_keras import vit, utils\n",
    "from numpy.linalg import norm\n",
    "from sklearn.decomposition import PCA\n",
    "from glob import glob\n",
    "\n",
    "from IPython.display import display, HTML\n",
    "display(HTML(\"<style>.container { width:100% !important; }</style>\"))"
   ]
  },
  {
   "cell_type": "markdown",
   "id": "fcc6d345",
   "metadata": {},
   "source": [
    "### CNNs"
   ]
  },
  {
   "cell_type": "markdown",
   "id": "7396309a",
   "metadata": {},
   "source": [
    "### VGG16"
   ]
  },
  {
   "cell_type": "code",
   "execution_count": 2,
   "id": "aee9fdd3",
   "metadata": {},
   "outputs": [
    {
     "name": "stderr",
     "output_type": "stream",
     "text": [
      "2023-04-17 16:04:35.910349: I tensorflow/stream_executor/cuda/cuda_gpu_executor.cc:937] successful NUMA node read from SysFS had negative value (-1), but there must be at least one NUMA node, so returning NUMA node zero\n",
      "2023-04-17 16:04:35.915454: I tensorflow/stream_executor/cuda/cuda_gpu_executor.cc:937] successful NUMA node read from SysFS had negative value (-1), but there must be at least one NUMA node, so returning NUMA node zero\n",
      "2023-04-17 16:04:35.915632: I tensorflow/stream_executor/cuda/cuda_gpu_executor.cc:937] successful NUMA node read from SysFS had negative value (-1), but there must be at least one NUMA node, so returning NUMA node zero\n",
      "2023-04-17 16:04:35.916122: I tensorflow/core/platform/cpu_feature_guard.cc:142] This TensorFlow binary is optimized with oneAPI Deep Neural Network Library (oneDNN) to use the following CPU instructions in performance-critical operations:  AVX2 FMA\n",
      "To enable them in other operations, rebuild TensorFlow with the appropriate compiler flags.\n",
      "2023-04-17 16:04:35.919119: I tensorflow/stream_executor/cuda/cuda_gpu_executor.cc:937] successful NUMA node read from SysFS had negative value (-1), but there must be at least one NUMA node, so returning NUMA node zero\n",
      "2023-04-17 16:04:35.919293: I tensorflow/stream_executor/cuda/cuda_gpu_executor.cc:937] successful NUMA node read from SysFS had negative value (-1), but there must be at least one NUMA node, so returning NUMA node zero\n",
      "2023-04-17 16:04:35.919448: I tensorflow/stream_executor/cuda/cuda_gpu_executor.cc:937] successful NUMA node read from SysFS had negative value (-1), but there must be at least one NUMA node, so returning NUMA node zero\n",
      "2023-04-17 16:04:36.391582: I tensorflow/stream_executor/cuda/cuda_gpu_executor.cc:937] successful NUMA node read from SysFS had negative value (-1), but there must be at least one NUMA node, so returning NUMA node zero\n",
      "2023-04-17 16:04:36.391764: I tensorflow/stream_executor/cuda/cuda_gpu_executor.cc:937] successful NUMA node read from SysFS had negative value (-1), but there must be at least one NUMA node, so returning NUMA node zero\n",
      "2023-04-17 16:04:36.391910: I tensorflow/stream_executor/cuda/cuda_gpu_executor.cc:937] successful NUMA node read from SysFS had negative value (-1), but there must be at least one NUMA node, so returning NUMA node zero\n",
      "2023-04-17 16:04:36.392025: I tensorflow/core/common_runtime/gpu/gpu_device.cc:1510] Created device /job:localhost/replica:0/task:0/device:GPU:0 with 21614 MB memory:  -> device: 0, name: NVIDIA GeForce RTX 3090, pci bus id: 0000:01:00.0, compute capability: 8.6\n"
     ]
    }
   ],
   "source": [
    "from tensorflow.keras.applications.vgg16 import preprocess_input\n",
    "\n",
    "vgg16_biased = keras.models.load_model('selected_models/cnn/biased/VGG16biased_3.h5')\n",
    "vgg16_biased = tf.keras.models.Sequential(vgg16_biased.layers[:-4])\n",
    "vgg16_unbiased = keras.models.load_model('selected_models/cnn/unbiased/VGG16unbiased_3.h5')\n",
    "vgg16_unbiased = tf.keras.models.Sequential(vgg16_unbiased.layers[:-4])"
   ]
  },
  {
   "cell_type": "code",
   "execution_count": 3,
   "id": "aacefb73",
   "metadata": {},
   "outputs": [
    {
     "name": "stderr",
     "output_type": "stream",
     "text": [
      "2023-04-17 16:04:37.157225: I tensorflow/compiler/mlir/mlir_graph_optimization_pass.cc:185] None of the MLIR Optimization Passes are enabled (registered 2)\n",
      "2023-04-17 16:04:37.803090: I tensorflow/stream_executor/cuda/cuda_dnn.cc:369] Loaded cuDNN version 8201\n",
      "2023-04-17 16:04:38.648807: I tensorflow/core/platform/default/subprocess.cc:304] Start cannot spawn child process: No such file or directory\n",
      "2023-04-17 16:04:38.649491: I tensorflow/core/platform/default/subprocess.cc:304] Start cannot spawn child process: No such file or directory\n",
      "2023-04-17 16:04:38.649506: W tensorflow/stream_executor/gpu/asm_compiler.cc:77] Couldn't get ptxas version string: Internal: Couldn't invoke ptxas --version\n",
      "2023-04-17 16:04:38.650229: I tensorflow/core/platform/default/subprocess.cc:304] Start cannot spawn child process: No such file or directory\n",
      "2023-04-17 16:04:38.650274: W tensorflow/stream_executor/gpu/redzone_allocator.cc:314] Internal: Failed to launch ptxas\n",
      "Relying on driver to perform ptx compilation. \n",
      "Modify $PATH to customize ptxas location.\n",
      "This message will be only logged once.\n"
     ]
    },
    {
     "data": {
      "text/plain": [
       "[[-0.0880601, -0.06210778, -0.1349569, -0.09184347],\n",
       " [-0.032288957, -0.027997797, -0.08637945, -0.06640013]]"
      ]
     },
     "execution_count": 3,
     "metadata": {},
     "output_type": "execute_result"
    }
   ],
   "source": [
    "vgg_res = iias.cnn_iias_calculator(vgg16_biased, vgg16_unbiased, preprocess_input, 'vgg_16' )\n",
    "vgg_res"
   ]
  },
  {
   "cell_type": "markdown",
   "id": "2ed625ed",
   "metadata": {},
   "source": [
    "### Inception v3"
   ]
  },
  {
   "cell_type": "code",
   "execution_count": 4,
   "id": "2b76f03c",
   "metadata": {},
   "outputs": [
    {
     "data": {
      "text/plain": [
       "[[0.04968613, 0.011103727, 0.011259139, 0.039424554],\n",
       " [-0.0070485966, -0.028550252, -0.018676803, -0.0189191]]"
      ]
     },
     "execution_count": 4,
     "metadata": {},
     "output_type": "execute_result"
    }
   ],
   "source": [
    "from tensorflow.keras.applications.inception_v3 import  preprocess_input\n",
    "\n",
    "inception_biased = keras.models.load_model('selected_models/cnn/biased/Inceptionbiased_2.h5')\n",
    "inception_biased = Model(inception_biased.input, inception_biased.layers[-5].output)\n",
    "inception_unbiased = keras.models.load_model('selected_models/cnn/unbiased/Inceptionunbiased_2.h5')\n",
    "inception_unbiased = Model(inception_unbiased.input, inception_unbiased.layers[-5].output)\n",
    "\n",
    "inception_res = iias.cnn_iias_calculator(inception_biased, inception_unbiased, preprocess_input, 'inception')\n",
    "inception_res"
   ]
  },
  {
   "cell_type": "markdown",
   "id": "6b9a5664",
   "metadata": {},
   "source": [
    "### ResNet 152"
   ]
  },
  {
   "cell_type": "code",
   "execution_count": 5,
   "id": "feaf8582",
   "metadata": {},
   "outputs": [
    {
     "data": {
      "text/plain": [
       "[[0.034034707, -0.02623316, 0.030634433, 0.03591928],\n",
       " [0.04883014, -0.046174467, 0.03265802, 0.055762947]]"
      ]
     },
     "execution_count": 5,
     "metadata": {},
     "output_type": "execute_result"
    }
   ],
   "source": [
    "from tensorflow.keras.applications.resnet_v2 import  preprocess_input\n",
    "\n",
    "resnet_biased = keras.models.load_model('selected_models/cnn/biased/ResNet152biased_4.h5')\n",
    "resnet_biased = Model(resnet_biased.input, resnet_biased.layers[-15].output)\n",
    "resnet_unbiased = keras.models.load_model('selected_models/cnn/unbiased/ResNet152unbiased_4.h5')\n",
    "resnet_unbiased = Model(resnet_unbiased.input, resnet_unbiased.layers[-15].output)\n",
    "\n",
    "resnet_res = iias.cnn_iias_calculator(resnet_biased, resnet_unbiased, preprocess_input, 'resnet')\n",
    "resnet_res"
   ]
  },
  {
   "cell_type": "markdown",
   "id": "415d40e8",
   "metadata": {},
   "source": [
    "### Xception"
   ]
  },
  {
   "cell_type": "code",
   "execution_count": 6,
   "id": "1ecf7886",
   "metadata": {},
   "outputs": [
    {
     "data": {
      "text/plain": [
       "[[-0.016228886, 0.0046228347, 0.008664374, -0.0012554636],\n",
       " [0.019838614, 0.08366705, 0.04603773, 0.04557107]]"
      ]
     },
     "execution_count": 6,
     "metadata": {},
     "output_type": "execute_result"
    }
   ],
   "source": [
    "from tensorflow.keras.applications.xception import  preprocess_input\n",
    "\n",
    "xception_biased = keras.models.load_model('selected_models/cnn/biased/Xceptionbiased_1.h5')\n",
    "xception_biased = Model(xception_biased.input, xception_biased.layers[-5].output)\n",
    "xception_unbiased = keras.models.load_model('selected_models/cnn/unbiased/Xceptionunbiased_1.h5')\n",
    "xception_unbiased = Model(xception_unbiased.input, xception_unbiased.layers[-5].output)\n",
    "\n",
    "xception_res = iias.cnn_iias_calculator(xception_biased, xception_unbiased, preprocess_input, 'xception')\n",
    "xception_res"
   ]
  },
  {
   "cell_type": "markdown",
   "id": "5dc8d4d2",
   "metadata": {},
   "source": [
    "### Vision Transformer"
   ]
  },
  {
   "cell_type": "markdown",
   "id": "3ba69649",
   "metadata": {},
   "source": [
    "### ViT - B/16"
   ]
  },
  {
   "cell_type": "code",
   "execution_count": 7,
   "id": "9b25aeb6",
   "metadata": {},
   "outputs": [
    {
     "name": "stderr",
     "output_type": "stream",
     "text": [
      "/home/abhishekmandal/anaconda3/envs/TensorFlow/lib/python3.9/site-packages/tensorflow_addons/activations/gelu.py:79: UserWarning: Default value of `approximate` is changed from `True` to `False`\n",
      "  warnings.warn(\n",
      "2023-04-17 16:10:27.313850: I tensorflow/stream_executor/cuda/cuda_blas.cc:1760] TensorFloat-32 will be used for the matrix multiplication. This will only be logged once.\n"
     ]
    },
    {
     "data": {
      "text/plain": [
       "[[-0.0012160337, 6.4396672e-06, -0.00027921793, 0.00026151718],\n",
       " [-0.036848247, -0.0668989, -0.07934042, -0.063547686]]"
      ]
     },
     "execution_count": 7,
     "metadata": {},
     "output_type": "execute_result"
    }
   ],
   "source": [
    "vitb16_biased = keras.models.load_model('selected_models/vit/biased/vit_b16biased_3.h5')\n",
    "vitb16_biased = tf.keras.models.Sequential(vitb16_biased.layers[:-5])\n",
    "vitb16_unbiased = keras.models.load_model('selected_models/vit/unbiased/vit_b16unbiased_3.h5')\n",
    "vitb16_unbiased = tf.keras.models.Sequential(vitb16_unbiased.layers[:-5])\n",
    "\n",
    "vitb16 = iias.vit_iias_calculator(vitb16_biased, vitb16_unbiased, 112)\n",
    "vitb16"
   ]
  },
  {
   "cell_type": "markdown",
   "id": "3edddf90",
   "metadata": {},
   "source": [
    "### ViT - B/32"
   ]
  },
  {
   "cell_type": "code",
   "execution_count": 8,
   "id": "b97780e8",
   "metadata": {},
   "outputs": [
    {
     "data": {
      "text/plain": [
       "[[-0.0024462878, -0.0020258767, -0.0021286956, -0.0018057056],\n",
       " [-0.009264702, -0.007058598, -0.010999792, -0.0013921097]]"
      ]
     },
     "execution_count": 8,
     "metadata": {},
     "output_type": "execute_result"
    }
   ],
   "source": [
    "vitb32_biased = keras.models.load_model('selected_models/vit/biased/vit_b32biased_1.h5')\n",
    "vitb32_biased = tf.keras.models.Sequential(vitb32_biased.layers[:-5])\n",
    "vitb32_unbiased = keras.models.load_model('selected_models/vit/unbiased/vit_b32unbiased_1.h5')\n",
    "vitb32_unbiased = tf.keras.models.Sequential(vitb32_unbiased.layers[:-5])\n",
    "\n",
    "vitb32 = iias.vit_iias_calculator(vitb32_biased, vitb32_unbiased, 224)\n",
    "vitb32"
   ]
  },
  {
   "cell_type": "markdown",
   "id": "aeeaba4d",
   "metadata": {},
   "source": [
    "### ViT - L/16"
   ]
  },
  {
   "cell_type": "code",
   "execution_count": 9,
   "id": "0da15576",
   "metadata": {},
   "outputs": [
    {
     "data": {
      "text/plain": [
       "[[0.057774507, 0.0836375, 0.094554, 0.11902785],\n",
       " [0.009964774, 0.006115029, 0.010184256, 0.011635155]]"
      ]
     },
     "execution_count": 9,
     "metadata": {},
     "output_type": "execute_result"
    }
   ],
   "source": [
    "vitl16_biased = keras.models.load_model('selected_models/vit/biased/vit_l16biased_4.h5')\n",
    "vitl16_biased = tf.keras.models.Sequential(vitl16_biased.layers[:-5])\n",
    "vitl16_unbiased = keras.models.load_model('selected_models/vit/unbiased/vit_l16unbiased_4.h5')\n",
    "vitl16_unbiased = tf.keras.models.Sequential(vitl16_unbiased.layers[:-5])\n",
    "\n",
    "vitl16 = iias.vit_iias_calculator(vitl16_biased, vitl16_unbiased, 112)\n",
    "vitl16"
   ]
  },
  {
   "cell_type": "markdown",
   "id": "a429b685",
   "metadata": {},
   "source": [
    "### ViT - L/32"
   ]
  },
  {
   "cell_type": "code",
   "execution_count": 10,
   "id": "5949cceb",
   "metadata": {},
   "outputs": [
    {
     "data": {
      "text/plain": [
       "[[-0.011262396, -0.005719486, -0.0064244913, -0.006038543],\n",
       " [0.009800295, -0.01767917, 0.009077253, 6.4959095e-05]]"
      ]
     },
     "execution_count": 10,
     "metadata": {},
     "output_type": "execute_result"
    }
   ],
   "source": [
    "vitl32_biased = keras.models.load_model('selected_models/vit/biased/vit_l32biased_5.h5')\n",
    "vitl32_biased = tf.keras.models.Sequential(vitl32_biased.layers[:-5])\n",
    "vitl32_unbiased = keras.models.load_model('selected_models/vit/unbiased/vit_l32unbiased_5.h5')\n",
    "vitl32_unbiased = tf.keras.models.Sequential(vitl32_unbiased.layers[:-5])\n",
    "\n",
    "vitl32 = iias.vit_iias_calculator(vitl32_biased, vitl32_unbiased, 224)\n",
    "vitl32"
   ]
  },
  {
   "cell_type": "code",
   "execution_count": 11,
   "id": "307888be",
   "metadata": {},
   "outputs": [],
   "source": [
    "target_ls = ['ceo', 'engineer', 'nurse', 'school_teacher']\n",
    "\n",
    "df = pd.DataFrame(list(zip(target_ls, vgg_res[0], inception_res[0], resnet_res[0], xception_res[0], vitb16[0], vitb32[0], vitl16[0], vitl32[0], \n",
    "                           vgg_res[1], inception_res[1], resnet_res[1], xception_res[1], vitb16[1], vitb32[1], vitl16[1], vitl32[1])),\n",
    "                 columns=['Target', 'VGG16_biased', 'Inceptionv3_biased', 'ResNet152_biased','Xception_biased', 'ViT-B_16_biased', 'ViT-B_32_biased', 'ViT-L_16_biased', 'ViT-L_32_biased',\n",
    "                         'VGG16_unbiased', 'Inceptionv3_unbiased', 'ResNet152_unbiased','Xception_unbiased', 'ViT-B_16_unbiased', 'ViT-B_32_unbiased', 'ViT-L_16_unbiased', 'ViT-L_32_unbiased'])"
   ]
  },
  {
   "cell_type": "code",
   "execution_count": 12,
   "id": "87b405e0",
   "metadata": {},
   "outputs": [],
   "source": [
    "df.to_csv('results/iias_obscured.csv', index=False)"
   ]
  },
  {
   "cell_type": "markdown",
   "id": "adbc9265",
   "metadata": {},
   "source": [
    "### Result Analysis"
   ]
  },
  {
   "cell_type": "code",
   "execution_count": 13,
   "id": "34be7e7d",
   "metadata": {},
   "outputs": [
    {
     "name": "stdout",
     "output_type": "stream",
     "text": [
      "Model  ['ceo', 'engineer', 'nurse', 'school_teacher']\n",
      "VGG16:  [-0.120349064, -0.09010558, -0.22133635, -0.1582436]\n",
      "Inceptionv3:  [0.042637534, -0.017446525, -0.007417664, 0.020505454]\n",
      "ResNet152:  [0.08286485, -0.072407626, 0.06329245, 0.091682225]\n",
      "Xception:  [0.003609728, 0.08828988, 0.054702103, 0.044315606]\n",
      "ViT B/16:  [-0.038064282, -0.06689246, -0.07961964, -0.06328617]\n",
      "ViT B/32:  [-0.01171099, -0.009084474, -0.013128487, -0.0031978153]\n",
      "ViT L/16:  [0.06773928, 0.089752525, 0.10473826, 0.13066301]\n",
      "ViT L/32:  [-0.001462101, -0.023398656, 0.0026527615, -0.0059735836]\n"
     ]
    }
   ],
   "source": [
    "print('Model ',target_ls)\n",
    "print('VGG16: ', [x + y for x, y in zip(vgg_res[0], vgg_res[1])])\n",
    "print('Inceptionv3: ', [x + y for x, y in zip(inception_res[0], inception_res[1])])\n",
    "print('ResNet152: ', [x + y for x, y in zip(resnet_res[0], resnet_res[1])])\n",
    "print('Xception: ', [x + y for x, y in zip(xception_res[0], xception_res[1])])\n",
    "print('ViT B/16: ', [x + y for x, y in zip(vitb16[0], vitb16[1])])\n",
    "print('ViT B/32: ', [x + y for x, y in zip(vitb32[0], vitb32[1])])\n",
    "print('ViT L/16: ', [x + y for x, y in zip(vitl16[0], vitl16[1])])\n",
    "print('ViT L/32: ', [x + y for x, y in zip(vitl32[0], vitl32[1])])"
   ]
  },
  {
   "cell_type": "code",
   "execution_count": 14,
   "id": "bc7ddf71",
   "metadata": {},
   "outputs": [
    {
     "name": "stdout",
     "output_type": "stream",
     "text": [
      "Model  ['ceo', 'engineer', 'nurse', 'school_teacher']\n",
      "VGG16:  [0.120349064, 0.09010558, 0.22133635, 0.1582436]\n",
      "Inceptionv3:  [0.056734726, 0.03965398, 0.029935941, 0.058343653]\n",
      "ResNet152:  [0.08286485, 0.072407626, 0.06329245, 0.091682225]\n",
      "Xception:  [0.0360675, 0.08828988, 0.054702103, 0.046826534]\n",
      "ViT B/16:  [0.038064282, 0.066905335, 0.07961964, 0.0638092]\n",
      "ViT B/32:  [0.01171099, 0.009084474, 0.013128487, 0.0031978153]\n",
      "ViT L/16:  [0.06773928, 0.089752525, 0.10473826, 0.13066301]\n",
      "ViT L/32:  [0.02106269, 0.023398656, 0.015501744, 0.006103502]\n"
     ]
    }
   ],
   "source": [
    "print('Model ',target_ls)\n",
    "print('VGG16: ', [abs(x) + abs(y) for x, y in zip(vgg_res[0], vgg_res[1])])\n",
    "print('Inceptionv3: ', [abs(x) + abs(y) for x, y in zip(inception_res[0], inception_res[1])])\n",
    "print('ResNet152: ', [abs(x) + abs(y) for x, y in zip(resnet_res[0], resnet_res[1])])\n",
    "print('Xception: ', [abs(x) + abs(y) for x, y in zip(xception_res[0], xception_res[1])])\n",
    "print('ViT B/16: ', [abs(x) + abs(y) for x, y in zip(vitb16[0], vitb16[1])])\n",
    "print('ViT B/32: ', [abs(x) + abs(y) for x, y in zip(vitb32[0], vitb32[1])])\n",
    "print('ViT L/16: ', [abs(x) + abs(y) for x, y in zip(vitl16[0], vitl16[1])])\n",
    "print('ViT L/32: ', [abs(x) + abs(y) for x, y in zip(vitl32[0], vitl32[1])])"
   ]
  },
  {
   "cell_type": "code",
   "execution_count": 15,
   "id": "995caef2",
   "metadata": {},
   "outputs": [
    {
     "name": "stdout",
     "output_type": "stream",
     "text": [
      "Model  ['ceo', 'engineer', 'nurse', 'school_teacher']\n",
      "VGG16:  0.5900345891714096\n",
      "Inceptionv3:  0.18466829881072044\n",
      "ResNet152:  0.31024715304374695\n",
      "Xception:  0.2258860170841217\n",
      "ViT B/16:  0.24839845672249794\n",
      "ViT B/32:  0.037121767178177834\n",
      "ViT L/16:  0.39289306849241257\n",
      "ViT L/32:  0.06606659339740872\n"
     ]
    }
   ],
   "source": [
    "print('Model ',target_ls)\n",
    "print('VGG16: ', sum([abs(x) + abs(y) for x, y in zip(vgg_res[0], vgg_res[1])]))\n",
    "print('Inceptionv3: ', sum([abs(x) + abs(y) for x, y in zip(inception_res[0], inception_res[1])]))\n",
    "print('ResNet152: ', sum([abs(x) + abs(y) for x, y in zip(resnet_res[0], resnet_res[1])]))\n",
    "print('Xception: ', sum([abs(x) + abs(y) for x, y in zip(xception_res[0], xception_res[1])]))\n",
    "print('ViT B/16: ', sum([abs(x) + abs(y) for x, y in zip(vitb16[0], vitb16[1])]))\n",
    "print('ViT B/32: ', sum([abs(x) + abs(y) for x, y in zip(vitb32[0], vitb32[1])]))\n",
    "print('ViT L/16: ', sum([abs(x) + abs(y) for x, y in zip(vitl16[0], vitl16[1])]))\n",
    "print('ViT L/32: ', sum([abs(x) + abs(y) for x, y in zip(vitl32[0], vitl32[1])]))"
   ]
  },
  {
   "cell_type": "code",
   "execution_count": 16,
   "id": "e24a0488",
   "metadata": {},
   "outputs": [
    {
     "name": "stdout",
     "output_type": "stream",
     "text": [
      "Model  ['ceo', 'engineer', 'nurse', 'school_teacher']\n",
      "VGG16:  0.5900345891714096\n",
      "Inceptionv3:  0.03827879950404167\n",
      "ResNet152:  0.1654319018125534\n",
      "Xception:  0.19091731682419777\n",
      "ViT B/16:  0.2478625513613224\n",
      "ViT B/32:  0.037121767178177834\n",
      "ViT L/16:  0.39289306849241257\n",
      "ViT L/32:  0.028181579429656267\n"
     ]
    }
   ],
   "source": [
    "print('Model ',target_ls)\n",
    "print('VGG16: ', abs(sum([x + y for x, y in zip(vgg_res[0], vgg_res[1])])))\n",
    "print('Inceptionv3: ', abs(sum([x + y for x, y in zip(inception_res[0], inception_res[1])])))\n",
    "print('ResNet152: ', abs(sum([x + y for x, y in zip(resnet_res[0], resnet_res[1])])))\n",
    "print('Xception: ', abs(sum([x + y for x, y in zip(xception_res[0], xception_res[1])])))\n",
    "print('ViT B/16: ', abs(sum([x + y for x, y in zip(vitb16[0], vitb16[1])])))\n",
    "print('ViT B/32: ', abs(sum([x + y for x, y in zip(vitb32[0], vitb32[1])])))\n",
    "print('ViT L/16: ', abs(sum([x + y for x, y in zip(vitl16[0], vitl16[1])])))\n",
    "print('ViT L/32: ', abs(sum([x + y for x, y in zip(vitl32[0], vitl32[1])])))"
   ]
  },
  {
   "cell_type": "code",
   "execution_count": 17,
   "id": "bb9eedaf",
   "metadata": {},
   "outputs": [
    {
     "name": "stdout",
     "output_type": "stream",
     "text": [
      "Model     IIAS\n",
      "VGG16:  0.5900345891714096\n",
      "Inceptionv3:  0.03827879950404167\n",
      "ResNet152:  0.1654319018125534\n",
      "Xception:  0.19091731682419777\n",
      "ViT B/16:  0.2478625513613224\n",
      "ViT B/32:  0.037121767178177834\n",
      "ViT L/16:  0.39289306849241257\n",
      "ViT L/32:  0.028181579429656267\n",
      "Mean CNN IIAS:  0.2461656518280506\n",
      "Mean ViT IIAS:  0.17651474161539227\n"
     ]
    }
   ],
   "source": [
    "model_ls = ['VGG16', 'Inceptionv3', 'ResNet152', 'Xception', 'ViT B/16', 'ViT B/32', 'ViT L/16', 'ViT L/32']\n",
    "result_ls = [vgg_res, inception_res, resnet_res, xception_res, vitb16, vitb32, vitl16, vitl32]\n",
    "\n",
    "print('Model     IIAS')\n",
    "cnn_iias = []\n",
    "vit_iias = []\n",
    "for i, result in enumerate(result_ls):\n",
    "    bias = abs(sum([x + y for x, y in zip(result[0], result[1])]))\n",
    "    print(model_ls[i]+': ', bias)\n",
    "    if i<4 :\n",
    "        cnn_iias.append(bias)\n",
    "    else:\n",
    "        vit_iias.append(bias)\n",
    "\n",
    "print('Mean CNN IIAS: ', np.mean(cnn_iias))\n",
    "print('Mean ViT IIAS: ', np.mean(vit_iias))"
   ]
  },
  {
   "cell_type": "code",
   "execution_count": 18,
   "id": "a3136abc",
   "metadata": {},
   "outputs": [
    {
     "name": "stdout",
     "output_type": "stream",
     "text": [
      "Model     IIAS\n",
      "VGG16:  0.5900345891714096\n",
      "Inceptionv3:  0.18466829881072044\n",
      "ResNet152:  0.31024715304374695\n",
      "Xception:  0.2258860170841217\n",
      "ViT B/16:  0.24839845672249794\n",
      "ViT B/32:  0.037121767178177834\n",
      "ViT L/16:  0.39289306849241257\n",
      "ViT L/32:  0.06606659339740872\n",
      "Mean CNN IIAS:  0.3277090145274997\n",
      "Mean ViT IIAS:  0.18611997144762427\n"
     ]
    }
   ],
   "source": [
    "print('Model     IIAS')\n",
    "cnn_iias = []\n",
    "vit_iias = []\n",
    "for i, result in enumerate(result_ls):\n",
    "    bias = sum([abs(x) + abs(y) for x, y in zip(result[0], result[1])])\n",
    "    print(model_ls[i]+': ', bias)\n",
    "    if i<4 :\n",
    "        cnn_iias.append(bias)\n",
    "    else:\n",
    "        vit_iias.append(bias)\n",
    "\n",
    "print('Mean CNN IIAS: ', np.mean(cnn_iias))\n",
    "print('Mean ViT IIAS: ', np.mean(vit_iias))"
   ]
  },
  {
   "cell_type": "code",
   "execution_count": 19,
   "id": "a9aeb6fa",
   "metadata": {},
   "outputs": [
    {
     "name": "stdout",
     "output_type": "stream",
     "text": [
      "Model     IIAS\n",
      "VGG16:  0.5900345891714096\n",
      "Inceptionv3:  0.08800717815756798\n",
      "ResNet152:  0.31024715304374695\n",
      "Xception:  0.19091731682419777\n",
      "ViT B/16:  0.2478625513613224\n",
      "ViT B/32:  0.037121767178177834\n",
      "ViT L/16:  0.39289306849241257\n",
      "ViT L/32:  0.03348710248246789\n",
      "Mean CNN IIAS:  0.2948015592992306\n",
      "Mean ViT IIAS:  0.17784112237859517\n"
     ]
    }
   ],
   "source": [
    "print('Model     IIAS')\n",
    "cnn_iias = []\n",
    "vit_iias = []\n",
    "for i, result in enumerate(result_ls):\n",
    "    bias = sum([abs(x + y) for x, y in zip(result[0], result[1])])\n",
    "    print(model_ls[i]+': ', bias)\n",
    "    if i<4 :\n",
    "        cnn_iias.append(bias)\n",
    "    else:\n",
    "        vit_iias.append(bias)\n",
    "\n",
    "print('Mean CNN IIAS: ', np.mean(cnn_iias))\n",
    "print('Mean ViT IIAS: ', np.mean(vit_iias))"
   ]
  },
  {
   "cell_type": "code",
   "execution_count": 20,
   "id": "698dd83e",
   "metadata": {},
   "outputs": [
    {
     "name": "stdout",
     "output_type": "stream",
     "text": [
      "biased\n",
      "==================================================\n",
      "ceo\n",
      "Mean CNN IIAS:  0.005142038\n",
      "Mean ViT IIAS:  0.010712447\n",
      "\n",
      "\n",
      "engineer\n",
      "Mean CNN IIAS:  0.018153595\n",
      "Mean ViT IIAS:  0.018974645\n",
      "\n",
      "\n",
      "nurse\n",
      "Mean CNN IIAS:  0.021099737\n",
      "Mean ViT IIAS:  0.021430397\n",
      "\n",
      "\n",
      "school_teacher\n",
      "Mean CNN IIAS:  0.0044387756\n",
      "Mean ViT IIAS:  0.027861282\n",
      "\n",
      "\n",
      "--------------------------------------------------\n",
      "Total IIAS CNN:  0.012208537\n",
      "Total IIAS ViT:  0.019744692\n",
      "--------------------------------------------------\n",
      "\n",
      "\n",
      "unbiased\n",
      "==================================================\n",
      "ceo\n",
      "Mean CNN IIAS:  0.0073328004\n",
      "Mean ViT IIAS:  0.006586969\n",
      "\n",
      "\n",
      "engineer\n",
      "Mean CNN IIAS:  0.0047638677\n",
      "Mean ViT IIAS:  0.02138041\n",
      "\n",
      "\n",
      "nurse\n",
      "Mean CNN IIAS:  0.006590127\n",
      "Mean ViT IIAS:  0.017769676\n",
      "\n",
      "\n",
      "school_teacher\n",
      "Mean CNN IIAS:  0.004003695\n",
      "Mean ViT IIAS:  0.013309921\n",
      "\n",
      "\n",
      "--------------------------------------------------\n",
      "Total IIAS CNN:  0.0056726225\n",
      "Total IIAS ViT:  0.014761744\n",
      "--------------------------------------------------\n",
      "\n",
      "\n"
     ]
    }
   ],
   "source": [
    "for k, bias in enumerate(['biased', 'unbiased']):\n",
    "    total_bias_cnn = []\n",
    "    total_bias_vit = []\n",
    "    print(bias)\n",
    "    print('='*50)\n",
    "    for j, target in enumerate(target_ls):\n",
    "\n",
    "        print(target)\n",
    "\n",
    "        cnn_iias = []\n",
    "        vit_iias = []\n",
    "        for i,result in enumerate(result_ls):\n",
    "            if i<4 :\n",
    "                cnn_iias.append(result[k][j])\n",
    "            else:\n",
    "                vit_iias.append(result[k][j])\n",
    "        print('Mean CNN IIAS: ', abs(np.mean(cnn_iias)))\n",
    "        print('Mean ViT IIAS: ', abs(np.mean(vit_iias)))\n",
    "        total_bias_cnn.append(abs(np.mean(cnn_iias)))\n",
    "        total_bias_vit.append(abs(np.mean(vit_iias)))\n",
    "        print('\\n')\n",
    "        \n",
    "    print('-'*50)\n",
    "    print('Total IIAS CNN: ', np.mean(total_bias_cnn))\n",
    "    print('Total IIAS ViT: ', np.mean(total_bias_vit))\n",
    "    print('-'*50)\n",
    "    print('\\n')\n",
    "        \n",
    "    "
   ]
  },
  {
   "cell_type": "code",
   "execution_count": null,
   "id": "eb8d18b5",
   "metadata": {},
   "outputs": [],
   "source": []
  }
 ],
 "metadata": {
  "kernelspec": {
   "display_name": "Python 3 (ipykernel)",
   "language": "python",
   "name": "python3"
  },
  "language_info": {
   "codemirror_mode": {
    "name": "ipython",
    "version": 3
   },
   "file_extension": ".py",
   "mimetype": "text/x-python",
   "name": "python",
   "nbconvert_exporter": "python",
   "pygments_lexer": "ipython3",
   "version": "3.9.5"
  }
 },
 "nbformat": 4,
 "nbformat_minor": 5
}
